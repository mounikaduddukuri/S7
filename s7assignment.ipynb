{
  "nbformat": 4,
  "nbformat_minor": 0,
  "metadata": {
    "colab": {
      "name": "s7assignment.ipynb",
      "provenance": [],
      "collapsed_sections": [],
      "authorship_tag": "ABX9TyNEgdBP+VIXRXbUb50TGnbs",
      "include_colab_link": true
    },
    "kernelspec": {
      "name": "python3",
      "display_name": "Python 3"
    }
  },
  "cells": [
    {
      "cell_type": "markdown",
      "metadata": {
        "id": "view-in-github",
        "colab_type": "text"
      },
      "source": [
        "<a href=\"https://colab.research.google.com/github/mounikaduddukuri/S7/blob/master/s7assignment.ipynb\" target=\"_parent\"><img src=\"https://colab.research.google.com/assets/colab-badge.svg\" alt=\"Open In Colab\"/></a>"
      ]
    },
    {
      "cell_type": "code",
      "metadata": {
        "id": "dLeHqbLW-XhC",
        "colab_type": "code",
        "outputId": "0ab7a448-87b7-4333-b108-49f2301a74fd",
        "colab": {
          "base_uri": "https://localhost:8080/",
          "height": 122
        }
      },
      "source": [
        "# mount the drive where we will save stats and loade our libraries from\n",
        "from google.colab import drive\n",
        "drive.mount('/content/drive')"
      ],
      "execution_count": 0,
      "outputs": [
        {
          "output_type": "stream",
          "text": [
            "Go to this URL in a browser: https://accounts.google.com/o/oauth2/auth?client_id=947318989803-6bn6qk8qdgf4n4g3pfee6491hc0brc4i.apps.googleusercontent.com&redirect_uri=urn%3aietf%3awg%3aoauth%3a2.0%3aoob&response_type=code&scope=email%20https%3a%2f%2fwww.googleapis.com%2fauth%2fdocs.test%20https%3a%2f%2fwww.googleapis.com%2fauth%2fdrive%20https%3a%2f%2fwww.googleapis.com%2fauth%2fdrive.photos.readonly%20https%3a%2f%2fwww.googleapis.com%2fauth%2fpeopleapi.readonly\n",
            "\n",
            "Enter your authorization code:\n",
            "··········\n",
            "Mounted at /content/drive\n"
          ],
          "name": "stdout"
        }
      ]
    },
    {
      "cell_type": "code",
      "metadata": {
        "id": "Ofw8ceV2FrLF",
        "colab_type": "code",
        "outputId": "4b8edf97-dc8b-4593-be5f-4656b2814f02",
        "colab": {
          "base_uri": "https://localhost:8080/",
          "height": 100,
          "referenced_widgets": [
            "dac83fb3ba204a94aef6141fdfe69eca",
            "409276035a034eb99eb08450ced4fbb3",
            "560ea7336bfd4fc08d154a7805baa2d4",
            "a2ceee0b586b482e9cbefad680d4d4c7",
            "c5704ae6f30d45d7bd4da9c82ce4e500",
            "a186d8f774dc412f956a80e8446a446d",
            "0d72f590e73f4bdab76b53a40d440bab",
            "217921e46ed54c51a51d3cfda8b0f7c0"
          ]
        }
      },
      "source": [
        "from torchvision import datasets\n",
        "train = datasets.CIFAR10('./data', train=True, download=True)"
      ],
      "execution_count": 0,
      "outputs": [
        {
          "output_type": "stream",
          "text": [
            "Downloading https://www.cs.toronto.edu/~kriz/cifar-10-python.tar.gz to ./data/cifar-10-python.tar.gz\n"
          ],
          "name": "stdout"
        },
        {
          "output_type": "display_data",
          "data": {
            "application/vnd.jupyter.widget-view+json": {
              "model_id": "dac83fb3ba204a94aef6141fdfe69eca",
              "version_minor": 0,
              "version_major": 2
            },
            "text/plain": [
              "HBox(children=(IntProgress(value=1, bar_style='info', max=1), HTML(value='')))"
            ]
          },
          "metadata": {
            "tags": []
          }
        },
        {
          "output_type": "stream",
          "text": [
            "\n",
            "Extracting ./data/cifar-10-python.tar.gz to ./data\n"
          ],
          "name": "stdout"
        }
      ]
    },
    {
      "cell_type": "code",
      "metadata": {
        "id": "PfWwqt36Fxxz",
        "colab_type": "code",
        "outputId": "06c25932-df24-41d5-f899-f6e55c44dd4a",
        "colab": {
          "base_uri": "https://localhost:8080/",
          "height": 83,
          "referenced_widgets": [
            "f3b6fc7795ae410da6d5d75ed8b43e95",
            "5829fd37e4bc4e6ab58a03126249c3a6",
            "6a6c4997e2954e62b50bbc0a9b5d4504",
            "201711b849d94a09b640fb98c1647c82",
            "4155d430ec7d4313aecf142be6c73ef3",
            "04bd77722ffb4b51a90d87dbba06387b",
            "46e3b1f7571145d9933d631b5d2aac5b",
            "2f6d69319e94425daa7897123beb8a17"
          ]
        }
      },
      "source": [
        "from tqdm import tqdm_notebook\n",
        "from PIL import Image\n",
        "import numpy as np\n",
        "n = 0\n",
        "s = np.zeros(3)\n",
        "sq = np.zeros(3)\n",
        "for data, l in tqdm_notebook(train):\n",
        "  x = np.array(data)/255\n",
        "  s += x.sum(axis=(0,1))\n",
        "  sq += np.sum(np.square(x), axis=(0,1))\n",
        "  n += x.shape[0]*x.shape[1]\n",
        "\n",
        "mu = s/n\n",
        "std = np.sqrt((sq/n - np.square(mu)))\n",
        "print(mu, sq/n, std, n)"
      ],
      "execution_count": 0,
      "outputs": [
        {
          "output_type": "display_data",
          "data": {
            "application/vnd.jupyter.widget-view+json": {
              "model_id": "f3b6fc7795ae410da6d5d75ed8b43e95",
              "version_minor": 0,
              "version_major": 2
            },
            "text/plain": [
              "HBox(children=(IntProgress(value=0, max=50000), HTML(value='')))"
            ]
          },
          "metadata": {
            "tags": []
          }
        },
        {
          "output_type": "stream",
          "text": [
            "\n",
            "[0.49139968 0.48215841 0.44653091] [0.30249857 0.29176174 0.26781806] [0.24703223 0.24348513 0.26158784] 51200000\n"
          ],
          "name": "stdout"
        }
      ]
    },
    {
      "cell_type": "code",
      "metadata": {
        "id": "qugB_UrfF4tA",
        "colab_type": "code",
        "colab": {}
      },
      "source": [
        "# add path to our library in default search path\n",
        "import sys\n",
        "sys.path.append('/content/drive/My Drive/EVA4')"
      ],
      "execution_count": 0,
      "outputs": []
    },
    {
      "cell_type": "code",
      "metadata": {
        "id": "j4jVxs5iF-AO",
        "colab_type": "code",
        "colab": {}
      },
      "source": [
        "import numpy as np\n",
        "import eva4datatransforms\n",
        "\n",
        "from torchvision import transforms\n",
        "channel_means = (0.49139968, 0.48215841, 0.44653091)\n",
        "channel_stdevs = (0.24703223, 0.24348513, 0.26158784)\n",
        "trans = eva4datatransforms.Transforms(normalize=True, mean=channel_means, stdev=channel_stdevs)\n",
        "fillmeans = (np.array(channel_means)*255).astype(np.uint8)\n",
        "# Train Phase transformations\n",
        "train_transforms = trans.train_transforms([\n",
        "                                       #  transforms.Resize((28, 28)),\n",
        "                                       #  transforms.ColorJitter(brightness=0.10, contrast=0.1, saturation=0.10, hue=0.1),\n",
        "                                       transforms.RandomRotation((-15.0, 15.0), fill=tuple(fillmeans)),\n",
        "                                       transforms.RandomHorizontalFlip(),\n",
        "                                       ], \n",
        "                                       \n",
        "                                       [transforms.RandomErasing(value = tuple(channel_means))])\n",
        "\n",
        "# Test Phase transformations\n",
        "test_transforms = trans.test_transforms()"
      ],
      "execution_count": 0,
      "outputs": []
    },
    {
      "cell_type": "code",
      "metadata": {
        "id": "Z_4Dil1GGFWM",
        "colab_type": "code",
        "outputId": "6aa74ea2-c3f6-4f6e-a54c-a92f5f13f22c",
        "colab": {
          "base_uri": "https://localhost:8080/",
          "height": 34
        }
      },
      "source": [
        "tuple(fillmeans)"
      ],
      "execution_count": 0,
      "outputs": [
        {
          "output_type": "execute_result",
          "data": {
            "text/plain": [
              "(125, 122, 113)"
            ]
          },
          "metadata": {
            "tags": []
          },
          "execution_count": 6
        }
      ]
    },
    {
      "cell_type": "code",
      "metadata": {
        "id": "rfyEvFhmGKW4",
        "colab_type": "code",
        "outputId": "27c77447-5237-4f28-f6f7-7311482bf500",
        "colab": {
          "base_uri": "https://localhost:8080/",
          "height": 51
        }
      },
      "source": [
        "from torchvision import datasets\n",
        "train = datasets.CIFAR10('./data', train=True, download=True, transform=train_transforms)\n",
        "test = datasets.CIFAR10('./data', train=False, download=True, transform=test_transforms)"
      ],
      "execution_count": 0,
      "outputs": [
        {
          "output_type": "stream",
          "text": [
            "Files already downloaded and verified\n",
            "Files already downloaded and verified\n"
          ],
          "name": "stdout"
        }
      ]
    },
    {
      "cell_type": "code",
      "metadata": {
        "id": "dda0Ou8kGPeS",
        "colab_type": "code",
        "colab": {}
      },
      "source": [
        "import eva4dataloaders\n",
        "\n",
        "dataloader = eva4dataloaders.DataLoader()\n",
        "\n",
        "# train dataloader\n",
        "train_loader = dataloader.load(train)\n",
        "\n",
        "# test dataloader\n",
        "test_loader = dataloader.load(test)"
      ],
      "execution_count": 0,
      "outputs": []
    },
    {
      "cell_type": "code",
      "metadata": {
        "id": "e7dAR5WIGUt4",
        "colab_type": "code",
        "outputId": "2a0d96c0-ed41-435d-deb6-793f92f913a0",
        "colab": {
          "base_uri": "https://localhost:8080/",
          "height": 445
        }
      },
      "source": [
        "from __future__ import print_function\n",
        "channel_means = (0.49139968, 0.48215841, 0.44653091)\n",
        "channel_stdevs = (0.24703223, 0.24348513, 0.26158784)\n",
        "def unnormalize(img):\n",
        "  img = img.numpy().astype(dtype=np.float32)\n",
        "  \n",
        "  for i in range(img.shape[0]):\n",
        "    img[i] = (img[i]*channel_stdevs[i])+channel_means[i]\n",
        "  \n",
        "  return np.transpose(img, (1,2,0))\n",
        "  #return np.transpose(img, (1, 2, 0))\n",
        "\n",
        "%matplotlib inline\n",
        "import matplotlib.pyplot as plt\n",
        "dataiter = iter(train_loader)\n",
        "images, labels = dataiter.next()\n",
        "\n",
        "print(images.shape)\n",
        "print(labels.shape)\n",
        "\n",
        "num_classes = 10\n",
        "# display 10 images from each category. \n",
        "class_names = ['airplane','automobile','bird','cat','deer',\n",
        "               'dog','frog','horse','ship','truck']\n",
        "r, c = 10, 11\n",
        "n = 5\n",
        "fig = plt.figure(figsize=(7,7))\n",
        "fig.subplots_adjust(hspace=0.01, wspace=0.01)\n",
        "for i in range(num_classes):\n",
        "    idx = np.random.choice(np.where(labels[:]==i)[0], n)\n",
        "    ax = plt.subplot(r, c, i*c+1)\n",
        "    ax.text(-1.5, 0.5, class_names[i], fontsize=14)\n",
        "    plt.axis('off')\n",
        "    for j in range(1, n+1):\n",
        "      plt.subplot(r, c, i*c+j+1)\n",
        "      plt.imshow(unnormalize(images[idx[j-1]]), interpolation='none')\n",
        "      plt.axis('off')\n",
        "plt.show()"
      ],
      "execution_count": 0,
      "outputs": [
        {
          "output_type": "stream",
          "text": [
            "torch.Size([128, 3, 32, 32])\n",
            "torch.Size([128])\n"
          ],
          "name": "stdout"
        },
        {
          "output_type": "display_data",
          "data": {
            "image/png": "[encoded data removed]",
            "text/plain": [
              "<Figure size 504x504 with 60 Axes>"
            ]
          },
          "metadata": {
            "tags": []
          }
        }
      ]
    },
    {
      "cell_type": "code",
      "metadata": {
        "id": "ngEDg--NGbt9",
        "colab_type": "code",
        "outputId": "fd87c439-daa7-44da-b2b2-7ceaf3b0121f",
        "colab": {
          "base_uri": "https://localhost:8080/",
          "height": 765
        }
      },
      "source": [
        "import eva4model4\n",
        "import torch\n",
        "model = eva4model4.Cfar10Net4()\n",
        "use_cuda = torch.cuda.is_available()\n",
        "model.device = torch.device(\"cuda\" if use_cuda else \"cpu\")\n",
        "model.to(model.device)\n",
        "model.summary((3,32,32))"
      ],
      "execution_count": 0,
      "outputs": [
        {
          "output_type": "stream",
          "text": [
            "----------------------------------------------------------------\n",
            "        Layer (type)               Output Shape         Param #\n",
            "================================================================\n",
            "            Conv2d-1           [-1, 16, 32, 32]             432\n",
            "       BatchNorm2d-2           [-1, 16, 32, 32]              32\n",
            "              ReLU-3           [-1, 16, 32, 32]               0\n",
            "            Conv2d-4           [-1, 16, 32, 32]           2,304\n",
            "       BatchNorm2d-5           [-1, 16, 32, 32]              32\n",
            "              ReLU-6           [-1, 16, 32, 32]               0\n",
            "         MaxPool2d-7           [-1, 16, 16, 16]               0\n",
            "            Conv2d-8           [-1, 32, 16, 16]           4,608\n",
            "       BatchNorm2d-9           [-1, 32, 16, 16]              64\n",
            "             ReLU-10           [-1, 32, 16, 16]               0\n",
            "           Conv2d-11           [-1, 32, 16, 16]           9,216\n",
            "      BatchNorm2d-12           [-1, 32, 16, 16]              64\n",
            "             ReLU-13           [-1, 32, 16, 16]               0\n",
            "        MaxPool2d-14             [-1, 32, 8, 8]               0\n",
            "           Conv2d-15             [-1, 64, 8, 8]          18,432\n",
            "      BatchNorm2d-16             [-1, 64, 8, 8]             128\n",
            "             ReLU-17             [-1, 64, 8, 8]               0\n",
            "           Conv2d-18             [-1, 64, 8, 8]          36,864\n",
            "      BatchNorm2d-19             [-1, 64, 8, 8]             128\n",
            "             ReLU-20             [-1, 64, 8, 8]               0\n",
            "        MaxPool2d-21             [-1, 64, 4, 4]               0\n",
            "           Conv2d-22             [-1, 64, 4, 4]             576\n",
            "           Conv2d-23            [-1, 128, 4, 4]           8,192\n",
            "      BatchNorm2d-24            [-1, 128, 4, 4]             256\n",
            "             ReLU-25            [-1, 128, 4, 4]               0\n",
            "           Conv2d-26            [-1, 128, 4, 4]           1,152\n",
            "           Conv2d-27            [-1, 128, 4, 4]          16,384\n",
            "      BatchNorm2d-28            [-1, 128, 4, 4]             256\n",
            "             ReLU-29            [-1, 128, 4, 4]               0\n",
            "        AvgPool2d-30            [-1, 128, 1, 1]               0\n",
            "           Conv2d-31             [-1, 10, 1, 1]           1,280\n",
            "================================================================\n",
            "Total params: 100,400\n",
            "Trainable params: 100,400\n",
            "Non-trainable params: 0\n",
            "----------------------------------------------------------------\n",
            "Input size (MB): 0.01\n",
            "Forward/backward pass size (MB): 1.49\n",
            "Params size (MB): 0.38\n",
            "Estimated Total Size (MB): 1.88\n",
            "----------------------------------------------------------------\n"
          ],
          "name": "stdout"
        }
      ]
    },
    {
      "cell_type": "code",
      "metadata": {
        "id": "QMsfdipOGo9w",
        "colab_type": "code",
        "outputId": "05c39d2c-c35e-4706-a81c-6e467196ae2d",
        "colab": {
          "base_uri": "https://localhost:8080/",
          "height": 879,
          "referenced_widgets": [
            "5cd1a69613b048328c1834d7570dccd3",
            "062b9c5131c44db4bba4a22c9b7771a2",
            "08d18374da914baba7ed8b6e07fbca67",
            "c83954384e36457ea051ed2bc56b2724",
            "23ccccefdc0a49e0ba001a30c4fc6d19",
            "4c4d33abece148bf97a94d8e1a6c5c0a",
            "87b8adadb12942a6ac4b1c027dc6c4e0",
            "e235613acceb4c27b20b9a473e6954e6",
            "756b27bd07b64e3fb0c783c4d533b728",
            "424bcbbc9f3a429eab8352769a38921e",
            "784c2a2c985b476387c811a54b0b7577",
            "ec460b114e40438e84a9a862a8ba831d",
            "c59803a72e24420ca98f2a67ab46e456",
            "667b9ef16dfa4346a75fabaf1c56c432",
            "25814ea3fdbb4ec3839ec00b411f85d8",
            "7f991f016b0441f0957930acad1ba3b7",
            "8048612d27564f2eb522ef002e553506",
            "e11bad0ebc2d4e68a9a39dc05de5873b",
            "624aa7bc4ecb4a8d8c1dc98bf613af80",
            "7c0049bab75141138fb157dbd8b4e6b9",
            "8c5caf9b44f34bc881b7e3907f7e2ff1",
            "9b156704220347fcbe9f0c1918b4bcbb",
            "450fba94a4bb4f0ebcdd0e2aced29b63",
            "d9a02c038bf4474ab0c26ac86110c0a0",
            "270acec9b3004187838b9187c5588599",
            "d77c53ed47264e1290ec61b581f945e8",
            "cf513aa812ab46ff90ab855c95bf0c15",
            "08cee4a2236a438ca021bfb90d43d9c0",
            "c102b553c5964a29bbe4753fdf4c7584",
            "99e927857cb3407b9c505045d68ce96f",
            "b1e3f07cdfe847698db923464de3d165",
            "31a53251b8f9457e825c70f71eafa44a",
            "f36d518c8ad4466c9e41c36b9b8e96d0",
            "11e30184178746c0aea859a6fc9a5e15",
            "6e81c2bad873436b94437772e66365fa",
            "c7b96482b4aa49c49acb332909bb526c",
            "551ff4b0da5443d99c25846ca29bd70e",
            "8b599f88060d47b6a945cc3882ab7ee2",
            "85fd7855b6544428aa590a26ceca7898",
            "6162e0062e34412699b68de8953c871c",
            "d0905eda9a1047b283b6ff1767052b95",
            "37b5c687e1cb496484388e22c95e8093",
            "779701e667f44eb18b88f612bd687741",
            "e41268e1dc8d46548834bd1df445818f",
            "b2d415a9ed6d443785ab3de60ea91697",
            "2a7dce20c3c848368b00c84cbf81ef3d",
            "a36d27dc1beb4372bf96cd0ee344891e",
            "a6409af92f204eb69916cce36249cff0",
            "79123d66206f4244a0fc208a23bbf78e",
            "116d27ceb25040f0a6c583df7565f59c",
            "60ce3cda270842abbaf661e9c4304538",
            "a6b2c619af9a4c809c4427e8b0d4f26e",
            "2c2f734a1d464b41a5c645e623ae4490",
            "0264e9776fd747b2baea66dc6325cfb4",
            "6d68acfdf77d4b75963384afa8e730b5",
            "0fbcad4f96f64676aad4ae00e01add5c",
            "a80968315f4d4407810bffb9e41e0e2f",
            "e79302bbce904f81b2a860463373ca99",
            "55c3a70544674f0b84fc33ac615672e9",
            "115de18cb09f497b8c57f19f664f28c0",
            "43a8ae9c352a45a08ef5fdc590d5b27e",
            "b92f2fc8a9154dcd9f67e3a02df2516c",
            "6def1b1012dc4551bad438ce164308e7",
            "3bba555e5f7e44649b4909ef50da4b89",
            "f27427fa82394c64a118ad98137d8cca",
            "04568d2f4583424e9c35c304b28764f3",
            "ab5dc77cbcd64ab8b0c32739eb6c86de",
            "39142a083f834aee9e76f2dde2ed1c53",
            "5e61df22c5bf46998baa91aeaacd5662",
            "7c838d58334a4303a8b6f55eeffd3da8",
            "b9dc4079cbf9460eaa62e861bdf36c8e",
            "b4e0a73c83fe400ebfee205b95056c10",
            "1c4ae2d95f844db19f34b68cfe4b519f",
            "181dbc6b510e4e3db15363c76ce2c839",
            "779731551d0748778bdd4741bfe58acd",
            "4d4ebc134b7f46958406eb8e7386e4dc",
            "8287ee78ee06453aaa257fffa80580e7",
            "4a3d3060d58e44dc86867435aa54dc34",
            "b95fd6e38fd94ad68a8fc41554144d51",
            "4638fba9bad448b2bc8a791fdb09c12f",
            "313d8556128b421cacb2954b2452cd02",
            "358b3b7edeec4b298f78c42610677234",
            "5f06d947cf7b47d0a3a46b27fa7bf9d3",
            "c3b97c07bb25490a9650139d574d2aed",
            "9e3688daccd7481caff8f29d0fd9b5b7",
            "bb18019bdb19474086e9d618968e3944",
            "1113b12c704b4623b4917150b4ac8189",
            "a912f55df78e489c8d27ac97378c3fef"
          ]
        }
      },
      "source": [
        "#from torch.optim.lr_scheduler import StepLR\n",
        "import torch.optim as optim\n",
        "from torch.optim.lr_scheduler import OneCycleLR\n",
        "EPOCHS = 10\n",
        "L2lambda = 0\n",
        "optimizer = optim.SGD(model.parameters(), lr=0.01, momentum=0.9, nesterov=True, weight_decay=L2lambda)\n",
        "#scheduler = StepLR(optimizer, step_size=5, gamma=0.5)\n",
        "scheduler = torch.optim.lr_scheduler.OneCycleLR(optimizer, max_lr=0.5, steps_per_epoch=len(train_loader), epochs=EPOCHS)\n",
        "L1lambda = 0\n",
        "model.gotrain(optimizer, train_loader, test_loader, EPOCHS, \"/content/drive/My Drive\", scheduler, True, L1lambda)"
      ],
      "execution_count": 0,
      "outputs": [
        {
          "output_type": "display_data",
          "data": {
            "application/vnd.jupyter.widget-view+json": {
              "model_id": "5cd1a69613b048328c1834d7570dccd3",
              "version_minor": 0,
              "version_major": 2
            },
            "text/plain": [
              "HBox(children=(IntProgress(value=0, description='Epochs', max=10, style=ProgressStyle(description_width='initi…"
            ]
          },
          "metadata": {
            "tags": []
          }
        },
        {
          "output_type": "display_data",
          "data": {
            "application/vnd.jupyter.widget-view+json": {
              "model_id": "756b27bd07b64e3fb0c783c4d533b728",
              "version_minor": 0,
              "version_major": 2
            },
            "text/plain": [
              "HBox(children=(IntProgress(value=0, max=391), HTML(value='')))"
            ]
          },
          "metadata": {
            "tags": []
          }
        },
        {
          "output_type": "stream",
          "text": [
            "Validation loss decreased (100000.000000 --> 1.228710).  Saving model ...\n",
            "\rEpoch: 1, Train set: Average loss: 0.0117, Accuracy: 44.73%; Test set: Average loss: 1.2287, Accuracy: 55.17%\n",
            "\rLearning Rate = 0.140186\n"
          ],
          "name": "stdout"
        },
        {
          "output_type": "display_data",
          "data": {
            "application/vnd.jupyter.widget-view+json": {
              "model_id": "8048612d27564f2eb522ef002e553506",
              "version_minor": 0,
              "version_major": 2
            },
            "text/plain": [
              "HBox(children=(IntProgress(value=0, max=391), HTML(value='')))"
            ]
          },
          "metadata": {
            "tags": []
          }
        },
        {
          "output_type": "stream",
          "text": [
            "Validation loss decreased (1.228710 --> 0.993663).  Saving model ...\n",
            "\rEpoch: 2, Train set: Average loss: 0.0090, Accuracy: 58.78%; Test set: Average loss: 0.9937, Accuracy: 64.70%\n",
            "\rLearning Rate = 0.380371\n"
          ],
          "name": "stdout"
        },
        {
          "output_type": "display_data",
          "data": {
            "application/vnd.jupyter.widget-view+json": {
              "model_id": "270acec9b3004187838b9187c5588599",
              "version_minor": 0,
              "version_major": 2
            },
            "text/plain": [
              "HBox(children=(IntProgress(value=0, max=391), HTML(value='')))"
            ]
          },
          "metadata": {
            "tags": []
          }
        },
        {
          "output_type": "stream",
          "text": [
            "\rEpoch: 3, Train set: Average loss: 0.0079, Accuracy: 64.12%; Test set: Average loss: 1.1576, Accuracy: 62.36%\n",
            "\rLearning Rate = 0.500000\n"
          ],
          "name": "stdout"
        },
        {
          "output_type": "display_data",
          "data": {
            "application/vnd.jupyter.widget-view+json": {
              "model_id": "f36d518c8ad4466c9e41c36b9b8e96d0",
              "version_minor": 0,
              "version_major": 2
            },
            "text/plain": [
              "HBox(children=(IntProgress(value=0, max=391), HTML(value='')))"
            ]
          },
          "metadata": {
            "tags": []
          }
        },
        {
          "output_type": "stream",
          "text": [
            "Validation loss decreased (0.993663 --> 0.824690).  Saving model ...\n",
            "\rEpoch: 4, Train set: Average loss: 0.0073, Accuracy: 67.36%; Test set: Average loss: 0.8247, Accuracy: 72.39%\n",
            "\rLearning Rate = 0.475118\n"
          ],
          "name": "stdout"
        },
        {
          "output_type": "display_data",
          "data": {
            "application/vnd.jupyter.widget-view+json": {
              "model_id": "d0905eda9a1047b283b6ff1767052b95",
              "version_minor": 0,
              "version_major": 2
            },
            "text/plain": [
              "HBox(children=(IntProgress(value=0, max=391), HTML(value='')))"
            ]
          },
          "metadata": {
            "tags": []
          }
        },
        {
          "output_type": "stream",
          "text": [
            "Validation loss decreased (0.824690 --> 0.771514).  Saving model ...\n",
            "\rEpoch: 5, Train set: Average loss: 0.0068, Accuracy: 69.47%; Test set: Average loss: 0.7715, Accuracy: 73.29%\n",
            "\rLearning Rate = 0.405648\n"
          ],
          "name": "stdout"
        },
        {
          "output_type": "display_data",
          "data": {
            "application/vnd.jupyter.widget-view+json": {
              "model_id": "79123d66206f4244a0fc208a23bbf78e",
              "version_minor": 0,
              "version_major": 2
            },
            "text/plain": [
              "HBox(children=(IntProgress(value=0, max=391), HTML(value='')))"
            ]
          },
          "metadata": {
            "tags": []
          }
        },
        {
          "output_type": "stream",
          "text": [
            "Validation loss decreased (0.771514 --> 0.701541).  Saving model ...\n",
            "\rEpoch: 6, Train set: Average loss: 0.0063, Accuracy: 71.85%; Test set: Average loss: 0.7015, Accuracy: 76.09%\n",
            "\rLearning Rate = 0.305351\n"
          ],
          "name": "stdout"
        },
        {
          "output_type": "display_data",
          "data": {
            "application/vnd.jupyter.widget-view+json": {
              "model_id": "a80968315f4d4407810bffb9e41e0e2f",
              "version_minor": 0,
              "version_major": 2
            },
            "text/plain": [
              "HBox(children=(IntProgress(value=0, max=391), HTML(value='')))"
            ]
          },
          "metadata": {
            "tags": []
          }
        },
        {
          "output_type": "stream",
          "text": [
            "Validation loss decreased (0.701541 --> 0.649200).  Saving model ...\n",
            "\rEpoch: 7, Train set: Average loss: 0.0060, Accuracy: 72.90%; Test set: Average loss: 0.6492, Accuracy: 77.78%\n",
            "\rLearning Rate = 0.194091\n"
          ],
          "name": "stdout"
        },
        {
          "output_type": "display_data",
          "data": {
            "application/vnd.jupyter.widget-view+json": {
              "model_id": "f27427fa82394c64a118ad98137d8cca",
              "version_minor": 0,
              "version_major": 2
            },
            "text/plain": [
              "HBox(children=(IntProgress(value=0, max=391), HTML(value='')))"
            ]
          },
          "metadata": {
            "tags": []
          }
        },
        {
          "output_type": "stream",
          "text": [
            "Validation loss decreased (0.649200 --> 0.588512).  Saving model ...\n",
            "\rEpoch: 8, Train set: Average loss: 0.0056, Accuracy: 74.77%; Test set: Average loss: 0.5885, Accuracy: 79.74%\n",
            "\rLearning Rate = 0.093905\n"
          ],
          "name": "stdout"
        },
        {
          "output_type": "display_data",
          "data": {
            "application/vnd.jupyter.widget-view+json": {
              "model_id": "1c4ae2d95f844db19f34b68cfe4b519f",
              "version_minor": 0,
              "version_major": 2
            },
            "text/plain": [
              "HBox(children=(IntProgress(value=0, max=391), HTML(value='')))"
            ]
          },
          "metadata": {
            "tags": []
          }
        },
        {
          "output_type": "stream",
          "text": [
            "Validation loss decreased (0.588512 --> 0.535750).  Saving model ...\n",
            "\rEpoch: 9, Train set: Average loss: 0.0052, Accuracy: 76.94%; Test set: Average loss: 0.5358, Accuracy: 81.65%\n",
            "\rLearning Rate = 0.024635\n"
          ],
          "name": "stdout"
        },
        {
          "output_type": "display_data",
          "data": {
            "application/vnd.jupyter.widget-view+json": {
              "model_id": "313d8556128b421cacb2954b2452cd02",
              "version_minor": 0,
              "version_major": 2
            },
            "text/plain": [
              "HBox(children=(IntProgress(value=0, max=391), HTML(value='')))"
            ]
          },
          "metadata": {
            "tags": []
          }
        },
        {
          "output_type": "stream",
          "text": [
            "Validation loss decreased (0.535750 --> 0.526077).  Saving model ...\n",
            "\rEpoch: 10, Train set: Average loss: 0.0049, Accuracy: 78.20%; Test set: Average loss: 0.5261, Accuracy: 81.97%\n",
            "\rLearning Rate = 0.000002\n",
            "\n"
          ],
          "name": "stdout"
        }
      ]
    }
  ]
}